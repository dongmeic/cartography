{
 "cells": [
  {
   "cell_type": "code",
   "execution_count": 1,
   "id": "039c56b2",
   "metadata": {},
   "outputs": [],
   "source": [
    "from geopy.geocoders import Nominatim\n",
    "import pandas as pd\n",
    "import geopandas as gpd\n",
    "from geopandas import GeoDataFrame\n",
    "from shapely.geometry import Point\n",
    "import os"
   ]
  },
  {
   "cell_type": "code",
   "execution_count": 2,
   "id": "40b18add",
   "metadata": {},
   "outputs": [],
   "source": [
    "geolocator = Nominatim(user_agent=\"measurements\")"
   ]
  },
  {
   "cell_type": "code",
   "execution_count": 3,
   "id": "f39a158c",
   "metadata": {},
   "outputs": [],
   "source": [
    "locs = [\"1536 Alsea Dr\", \"2506 Oakmont Way\", \"2600 Prairie Rd\", \"1750 Willow Creek Cir\"]"
   ]
  },
  {
   "cell_type": "code",
   "execution_count": 4,
   "id": "d67df701",
   "metadata": {},
   "outputs": [],
   "source": [
    "def getCoordinates(place):\n",
    "    location = geolocator.geocode(place)\n",
    "    address, (latitude, longitude) = location\n",
    "    return [place, longitude, latitude] "
   ]
  },
  {
   "cell_type": "code",
   "execution_count": 5,
   "id": "71505763",
   "metadata": {},
   "outputs": [
    {
     "data": {
      "text/plain": [
       "['2506 Oakmont Way', -123.07317924110625, 44.065282430926935]"
      ]
     },
     "execution_count": 5,
     "metadata": {},
     "output_type": "execute_result"
    }
   ],
   "source": [
    "getCoordinates(\"2506 Oakmont Way\")"
   ]
  },
  {
   "cell_type": "code",
   "execution_count": 6,
   "id": "99a94fb8",
   "metadata": {},
   "outputs": [],
   "source": [
    "data = []"
   ]
  },
  {
   "cell_type": "code",
   "execution_count": 7,
   "id": "b9235b8c",
   "metadata": {},
   "outputs": [],
   "source": [
    "names = ['Home', 'Coburg Road KinderCare', 'Attune Foods', 'Managed Healthcare Pharmacy']"
   ]
  },
  {
   "cell_type": "code",
   "execution_count": 8,
   "id": "082f23e8",
   "metadata": {},
   "outputs": [],
   "source": [
    "for loc in locs:\n",
    "    ls = getCoordinates(loc)\n",
    "    ls.insert(0, names[locs.index(loc)])\n",
    "    data.append(ls)"
   ]
  },
  {
   "cell_type": "code",
   "execution_count": 9,
   "id": "6af44be7",
   "metadata": {},
   "outputs": [
    {
     "data": {
      "text/plain": [
       "[['Home', '1536 Alsea Dr', -123.0898986, 44.1043262],\n",
       " ['Coburg Road KinderCare',\n",
       "  '2506 Oakmont Way',\n",
       "  -123.07317924110625,\n",
       "  44.065282430926935],\n",
       " ['Attune Foods', '2600 Prairie Rd', -123.16232322381414, 44.10202510666821],\n",
       " ['Managed Healthcare Pharmacy',\n",
       "  '1750 Willow Creek Cir',\n",
       "  -123.18187734693878,\n",
       "  44.03852912244898]]"
      ]
     },
     "execution_count": 9,
     "metadata": {},
     "output_type": "execute_result"
    }
   ],
   "source": [
    "data"
   ]
  },
  {
   "cell_type": "code",
   "execution_count": 10,
   "id": "cbfe2837",
   "metadata": {},
   "outputs": [],
   "source": [
    "# Create the pandas DataFrame\n",
    "df = pd.DataFrame(data, columns = ['Name', 'Address', 'Longitude', 'Latitude'])"
   ]
  },
  {
   "cell_type": "code",
   "execution_count": 11,
   "id": "c7d8932a",
   "metadata": {},
   "outputs": [],
   "source": [
    "geometry = [Point(xy) for xy in zip(df.Longitude, df.Latitude)]\n",
    "gdf = GeoDataFrame(df, crs=\"EPSG:4326\", geometry=geometry)"
   ]
  },
  {
   "cell_type": "code",
   "execution_count": 12,
   "id": "de6c7f9f",
   "metadata": {},
   "outputs": [
    {
     "data": {
      "text/html": [
       "<div>\n",
       "<style scoped>\n",
       "    .dataframe tbody tr th:only-of-type {\n",
       "        vertical-align: middle;\n",
       "    }\n",
       "\n",
       "    .dataframe tbody tr th {\n",
       "        vertical-align: top;\n",
       "    }\n",
       "\n",
       "    .dataframe thead th {\n",
       "        text-align: right;\n",
       "    }\n",
       "</style>\n",
       "<table border=\"1\" class=\"dataframe\">\n",
       "  <thead>\n",
       "    <tr style=\"text-align: right;\">\n",
       "      <th></th>\n",
       "      <th>Name</th>\n",
       "      <th>Address</th>\n",
       "      <th>Longitude</th>\n",
       "      <th>Latitude</th>\n",
       "      <th>geometry</th>\n",
       "    </tr>\n",
       "  </thead>\n",
       "  <tbody>\n",
       "    <tr>\n",
       "      <th>0</th>\n",
       "      <td>Home</td>\n",
       "      <td>1536 Alsea Dr</td>\n",
       "      <td>-123.089899</td>\n",
       "      <td>44.104326</td>\n",
       "      <td>POINT (-123.08990 44.10433)</td>\n",
       "    </tr>\n",
       "    <tr>\n",
       "      <th>1</th>\n",
       "      <td>Coburg Road KinderCare</td>\n",
       "      <td>2506 Oakmont Way</td>\n",
       "      <td>-123.073179</td>\n",
       "      <td>44.065282</td>\n",
       "      <td>POINT (-123.07318 44.06528)</td>\n",
       "    </tr>\n",
       "    <tr>\n",
       "      <th>2</th>\n",
       "      <td>Attune Foods</td>\n",
       "      <td>2600 Prairie Rd</td>\n",
       "      <td>-123.162323</td>\n",
       "      <td>44.102025</td>\n",
       "      <td>POINT (-123.16232 44.10203)</td>\n",
       "    </tr>\n",
       "    <tr>\n",
       "      <th>3</th>\n",
       "      <td>Managed Healthcare Pharmacy</td>\n",
       "      <td>1750 Willow Creek Cir</td>\n",
       "      <td>-123.181877</td>\n",
       "      <td>44.038529</td>\n",
       "      <td>POINT (-123.18188 44.03853)</td>\n",
       "    </tr>\n",
       "  </tbody>\n",
       "</table>\n",
       "</div>"
      ],
      "text/plain": [
       "                          Name                Address   Longitude   Latitude  \\\n",
       "0                         Home          1536 Alsea Dr -123.089899  44.104326   \n",
       "1       Coburg Road KinderCare       2506 Oakmont Way -123.073179  44.065282   \n",
       "2                 Attune Foods        2600 Prairie Rd -123.162323  44.102025   \n",
       "3  Managed Healthcare Pharmacy  1750 Willow Creek Cir -123.181877  44.038529   \n",
       "\n",
       "                      geometry  \n",
       "0  POINT (-123.08990 44.10433)  \n",
       "1  POINT (-123.07318 44.06528)  \n",
       "2  POINT (-123.16232 44.10203)  \n",
       "3  POINT (-123.18188 44.03853)  "
      ]
     },
     "execution_count": 12,
     "metadata": {},
     "output_type": "execute_result"
    }
   ],
   "source": [
    "gdf"
   ]
  },
  {
   "cell_type": "code",
   "execution_count": 13,
   "id": "65bf71a0",
   "metadata": {},
   "outputs": [],
   "source": [
    "outpath = r'T:\\DCProjects\\Learning\\1536_Alsea_Dr'"
   ]
  },
  {
   "cell_type": "code",
   "execution_count": 14,
   "id": "e956433f",
   "metadata": {},
   "outputs": [],
   "source": [
    "gdf.to_file(os.path.join(outpath, 'points_of_interest.shp'))"
   ]
  }
 ],
 "metadata": {
  "kernelspec": {
   "display_name": "Python 3",
   "language": "python",
   "name": "python3"
  },
  "language_info": {
   "codemirror_mode": {
    "name": "ipython",
    "version": 3
   },
   "file_extension": ".py",
   "mimetype": "text/x-python",
   "name": "python",
   "nbconvert_exporter": "python",
   "pygments_lexer": "ipython3",
   "version": "3.8.8"
  }
 },
 "nbformat": 4,
 "nbformat_minor": 5
}
