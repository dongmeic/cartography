{
 "cells": [
  {
   "cell_type": "code",
   "execution_count": 1,
   "id": "1b310f79",
   "metadata": {},
   "outputs": [],
   "source": [
    "from geopy.geocoders import Nominatim\n",
    "import pandas as pd\n",
    "import geopandas as gpd\n",
    "from geopandas import GeoDataFrame\n",
    "from shapely.geometry import Point\n",
    "import os"
   ]
  },
  {
   "cell_type": "code",
   "execution_count": 2,
   "id": "f6b2c983",
   "metadata": {},
   "outputs": [],
   "source": [
    "geolocator = Nominatim(user_agent=\"measurements\")"
   ]
  },
  {
   "cell_type": "code",
   "execution_count": 3,
   "id": "01ba1c58",
   "metadata": {},
   "outputs": [],
   "source": [
    "location = geolocator.geocode(\"1536 Alsea Dr\")"
   ]
  },
  {
   "cell_type": "code",
   "execution_count": 4,
   "id": "797cb511",
   "metadata": {},
   "outputs": [
    {
     "data": {
      "text/plain": [
       "Location(Alsea Drive, Eugene, Lane County, Oregon, 97408, United States, (44.1043262, -123.0898986, 0.0))"
      ]
     },
     "execution_count": 4,
     "metadata": {},
     "output_type": "execute_result"
    }
   ],
   "source": [
    "location"
   ]
  },
  {
   "cell_type": "code",
   "execution_count": 6,
   "id": "037a5c9a",
   "metadata": {},
   "outputs": [],
   "source": [
    "data = [['1536 Alsea Dr', -123.0898986, 44.1043262]]"
   ]
  },
  {
   "cell_type": "code",
   "execution_count": 7,
   "id": "19f1a7b6",
   "metadata": {},
   "outputs": [],
   "source": [
    "# Create the pandas DataFrame\n",
    "df = pd.DataFrame(data, columns = ['Address', 'Longitude', 'Latitude'])"
   ]
  },
  {
   "cell_type": "code",
   "execution_count": 10,
   "id": "747b5b6c",
   "metadata": {},
   "outputs": [],
   "source": [
    "geometry = [Point(xy) for xy in zip(df.Longitude, df.Latitude)]\n",
    "gdf = GeoDataFrame(df, crs=\"EPSG:4326\", geometry=geometry)"
   ]
  },
  {
   "cell_type": "code",
   "execution_count": 11,
   "id": "bea7a61e",
   "metadata": {},
   "outputs": [
    {
     "data": {
      "text/html": [
       "<div>\n",
       "<style scoped>\n",
       "    .dataframe tbody tr th:only-of-type {\n",
       "        vertical-align: middle;\n",
       "    }\n",
       "\n",
       "    .dataframe tbody tr th {\n",
       "        vertical-align: top;\n",
       "    }\n",
       "\n",
       "    .dataframe thead th {\n",
       "        text-align: right;\n",
       "    }\n",
       "</style>\n",
       "<table border=\"1\" class=\"dataframe\">\n",
       "  <thead>\n",
       "    <tr style=\"text-align: right;\">\n",
       "      <th></th>\n",
       "      <th>Address</th>\n",
       "      <th>Longitude</th>\n",
       "      <th>Latitude</th>\n",
       "      <th>geometry</th>\n",
       "    </tr>\n",
       "  </thead>\n",
       "  <tbody>\n",
       "    <tr>\n",
       "      <th>0</th>\n",
       "      <td>1536 Alsea Dr</td>\n",
       "      <td>-123.089899</td>\n",
       "      <td>44.104326</td>\n",
       "      <td>POINT (-123.08990 44.10433)</td>\n",
       "    </tr>\n",
       "  </tbody>\n",
       "</table>\n",
       "</div>"
      ],
      "text/plain": [
       "         Address   Longitude   Latitude                     geometry\n",
       "0  1536 Alsea Dr -123.089899  44.104326  POINT (-123.08990 44.10433)"
      ]
     },
     "execution_count": 11,
     "metadata": {},
     "output_type": "execute_result"
    }
   ],
   "source": [
    "gdf"
   ]
  },
  {
   "cell_type": "code",
   "execution_count": 12,
   "id": "ebc18fc6",
   "metadata": {},
   "outputs": [],
   "source": [
    "outpath = r'T:\\DCProjects\\Learning\\1536_Alsea_Dr'"
   ]
  },
  {
   "cell_type": "code",
   "execution_count": 15,
   "id": "4191ece2",
   "metadata": {},
   "outputs": [],
   "source": [
    "gdf.to_file(os.path.join(outpath, '1536_Alsea_Dr.shp'))"
   ]
  }
 ],
 "metadata": {
  "kernelspec": {
   "display_name": "Python 3",
   "language": "python",
   "name": "python3"
  },
  "language_info": {
   "codemirror_mode": {
    "name": "ipython",
    "version": 3
   },
   "file_extension": ".py",
   "mimetype": "text/x-python",
   "name": "python",
   "nbconvert_exporter": "python",
   "pygments_lexer": "ipython3",
   "version": "3.8.8"
  }
 },
 "nbformat": 4,
 "nbformat_minor": 5
}
